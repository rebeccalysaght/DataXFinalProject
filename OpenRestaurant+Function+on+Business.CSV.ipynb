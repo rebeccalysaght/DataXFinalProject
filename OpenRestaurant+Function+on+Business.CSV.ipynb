{
 "cells": [
  {
   "cell_type": "markdown",
   "metadata": {},
   "source": [
    "# Function for finding open restaurants:\n",
    "Rebecca Lysaght, 11/16/17"
   ]
  },
  {
   "cell_type": "code",
   "execution_count": 9,
   "metadata": {},
   "outputs": [
    {
     "data": {
      "text/html": [
       "<div>\n",
       "<style>\n",
       "    .dataframe thead tr:only-child th {\n",
       "        text-align: right;\n",
       "    }\n",
       "\n",
       "    .dataframe thead th {\n",
       "        text-align: left;\n",
       "    }\n",
       "\n",
       "    .dataframe tbody tr th {\n",
       "        vertical-align: top;\n",
       "    }\n",
       "</style>\n",
       "<table border=\"1\" class=\"dataframe\">\n",
       "  <thead>\n",
       "    <tr style=\"text-align: right;\">\n",
       "      <th></th>\n",
       "      <th>address</th>\n",
       "      <th>attributes</th>\n",
       "      <th>business_id</th>\n",
       "      <th>categories</th>\n",
       "      <th>city</th>\n",
       "      <th>hours</th>\n",
       "      <th>is_open</th>\n",
       "      <th>latitude</th>\n",
       "      <th>longitude</th>\n",
       "      <th>name</th>\n",
       "      <th>neighborhood</th>\n",
       "      <th>postal_code</th>\n",
       "      <th>review_count</th>\n",
       "      <th>stars</th>\n",
       "      <th>state</th>\n",
       "    </tr>\n",
       "  </thead>\n",
       "  <tbody>\n",
       "    <tr>\n",
       "      <th>0</th>\n",
       "      <td>691 Richmond Rd</td>\n",
       "      <td>{'RestaurantsPriceRange2': 2, 'BusinessParking...</td>\n",
       "      <td>YDf95gJZaq05wvo7hTQbbQ</td>\n",
       "      <td>['Shopping', 'Shopping Centers']</td>\n",
       "      <td>Richmond Heights</td>\n",
       "      <td>{'Monday': '10:00-21:00', 'Tuesday': '10:00-21...</td>\n",
       "      <td>1</td>\n",
       "      <td>41.541716</td>\n",
       "      <td>-81.493116</td>\n",
       "      <td>Richmond Town Square</td>\n",
       "      <td>NaN</td>\n",
       "      <td>44143</td>\n",
       "      <td>17</td>\n",
       "      <td>2.0</td>\n",
       "      <td>OH</td>\n",
       "    </tr>\n",
       "    <tr>\n",
       "      <th>1</th>\n",
       "      <td>2824 Milton Rd</td>\n",
       "      <td>{'GoodForMeal': {'dessert': False, 'latenight'...</td>\n",
       "      <td>mLwM-h2YhXl2NCgdS84_Bw</td>\n",
       "      <td>['Food', 'Soul Food', 'Convenience Stores', 'R...</td>\n",
       "      <td>Charlotte</td>\n",
       "      <td>{'Monday': '10:00-22:00', 'Tuesday': '10:00-22...</td>\n",
       "      <td>0</td>\n",
       "      <td>35.236870</td>\n",
       "      <td>-80.741976</td>\n",
       "      <td>South Florida Style Chicken &amp; Ribs</td>\n",
       "      <td>Eastland</td>\n",
       "      <td>28215</td>\n",
       "      <td>4</td>\n",
       "      <td>4.5</td>\n",
       "      <td>NC</td>\n",
       "    </tr>\n",
       "    <tr>\n",
       "      <th>2</th>\n",
       "      <td>337 Danforth Avenue</td>\n",
       "      <td>{'BusinessParking': {'garage': False, 'street'...</td>\n",
       "      <td>v2WhjAB3PIBA8J8VxG3wEg</td>\n",
       "      <td>['Food', 'Coffee &amp; Tea']</td>\n",
       "      <td>Toronto</td>\n",
       "      <td>{'Monday': '10:00-19:00', 'Tuesday': '10:00-19...</td>\n",
       "      <td>0</td>\n",
       "      <td>43.677126</td>\n",
       "      <td>-79.353285</td>\n",
       "      <td>The Tea Emporium</td>\n",
       "      <td>Riverdale</td>\n",
       "      <td>M4K 1N7</td>\n",
       "      <td>7</td>\n",
       "      <td>4.5</td>\n",
       "      <td>ON</td>\n",
       "    </tr>\n",
       "    <tr>\n",
       "      <th>3</th>\n",
       "      <td>7702 E Doubletree Ranch Rd, Ste 300</td>\n",
       "      <td>{}</td>\n",
       "      <td>CVtCbSB1zUcUWg-9TNGTuQ</td>\n",
       "      <td>['Professional Services', 'Matchmakers']</td>\n",
       "      <td>Scottsdale</td>\n",
       "      <td>{'Friday': '9:00-17:00', 'Tuesday': '9:00-17:0...</td>\n",
       "      <td>1</td>\n",
       "      <td>33.565082</td>\n",
       "      <td>-111.916400</td>\n",
       "      <td>TRUmatch</td>\n",
       "      <td>NaN</td>\n",
       "      <td>85258</td>\n",
       "      <td>3</td>\n",
       "      <td>3.0</td>\n",
       "      <td>AZ</td>\n",
       "    </tr>\n",
       "    <tr>\n",
       "      <th>4</th>\n",
       "      <td>4719 N 20Th St</td>\n",
       "      <td>{'RestaurantsTableService': False, 'GoodForMea...</td>\n",
       "      <td>duHFBe87uNSXImQmvBh87Q</td>\n",
       "      <td>['Sandwiches', 'Restaurants']</td>\n",
       "      <td>Phoenix</td>\n",
       "      <td>{}</td>\n",
       "      <td>0</td>\n",
       "      <td>33.505928</td>\n",
       "      <td>-112.038847</td>\n",
       "      <td>Blimpie</td>\n",
       "      <td>NaN</td>\n",
       "      <td>85016</td>\n",
       "      <td>10</td>\n",
       "      <td>4.5</td>\n",
       "      <td>AZ</td>\n",
       "    </tr>\n",
       "  </tbody>\n",
       "</table>\n",
       "</div>"
      ],
      "text/plain": [
       "                               address  \\\n",
       "0                      691 Richmond Rd   \n",
       "1                       2824 Milton Rd   \n",
       "2                  337 Danforth Avenue   \n",
       "3  7702 E Doubletree Ranch Rd, Ste 300   \n",
       "4                       4719 N 20Th St   \n",
       "\n",
       "                                          attributes             business_id  \\\n",
       "0  {'RestaurantsPriceRange2': 2, 'BusinessParking...  YDf95gJZaq05wvo7hTQbbQ   \n",
       "1  {'GoodForMeal': {'dessert': False, 'latenight'...  mLwM-h2YhXl2NCgdS84_Bw   \n",
       "2  {'BusinessParking': {'garage': False, 'street'...  v2WhjAB3PIBA8J8VxG3wEg   \n",
       "3                                                 {}  CVtCbSB1zUcUWg-9TNGTuQ   \n",
       "4  {'RestaurantsTableService': False, 'GoodForMea...  duHFBe87uNSXImQmvBh87Q   \n",
       "\n",
       "                                          categories              city  \\\n",
       "0                   ['Shopping', 'Shopping Centers']  Richmond Heights   \n",
       "1  ['Food', 'Soul Food', 'Convenience Stores', 'R...         Charlotte   \n",
       "2                           ['Food', 'Coffee & Tea']           Toronto   \n",
       "3           ['Professional Services', 'Matchmakers']        Scottsdale   \n",
       "4                      ['Sandwiches', 'Restaurants']           Phoenix   \n",
       "\n",
       "                                               hours  is_open   latitude  \\\n",
       "0  {'Monday': '10:00-21:00', 'Tuesday': '10:00-21...        1  41.541716   \n",
       "1  {'Monday': '10:00-22:00', 'Tuesday': '10:00-22...        0  35.236870   \n",
       "2  {'Monday': '10:00-19:00', 'Tuesday': '10:00-19...        0  43.677126   \n",
       "3  {'Friday': '9:00-17:00', 'Tuesday': '9:00-17:0...        1  33.565082   \n",
       "4                                                 {}        0  33.505928   \n",
       "\n",
       "    longitude                                name neighborhood postal_code  \\\n",
       "0  -81.493116                Richmond Town Square          NaN       44143   \n",
       "1  -80.741976  South Florida Style Chicken & Ribs     Eastland       28215   \n",
       "2  -79.353285                    The Tea Emporium    Riverdale     M4K 1N7   \n",
       "3 -111.916400                            TRUmatch          NaN       85258   \n",
       "4 -112.038847                             Blimpie          NaN       85016   \n",
       "\n",
       "   review_count  stars state  \n",
       "0            17    2.0    OH  \n",
       "1             4    4.5    NC  \n",
       "2             7    4.5    ON  \n",
       "3             3    3.0    AZ  \n",
       "4            10    4.5    AZ  "
      ]
     },
     "execution_count": 9,
     "metadata": {},
     "output_type": "execute_result"
    }
   ],
   "source": [
    "import pandas as pd\n",
    "import numpy as np\n",
    "import datetime\n",
    "from datetime import date\n",
    "import calendar\n",
    "import ast\n",
    "\n",
    "#read in business.csv file\n",
    "df1=pd.read_csv(\"business.csv\")\n",
    "#show head to see file format\n",
    "df1.head()"
   ]
  },
  {
   "cell_type": "code",
   "execution_count": 10,
   "metadata": {
    "collapsed": true,
    "scrolled": true
   },
   "outputs": [],
   "source": [
    "#sort values according to city\n",
    "df1.sort_values([\"city\"], ascending = [1])\n",
    "#find all restaurants according to inputted city\n",
    "las_vegas_restaurants = df1[np.equal(df1.city, \"las vegas\")]\n",
    "#filter out restaurants with 4 or more stars\n",
    "top_restaurants = las_vegas_restaurants[las_vegas_restaurants.stars >= 4]"
   ]
  },
  {
   "cell_type": "code",
   "execution_count": 11,
   "metadata": {
    "collapsed": true
   },
   "outputs": [],
   "source": [
    "#helper function that checks dataframe \"hours\" value against current time\n",
    "def is_open(date_string, time_now):\n",
    "    open_close_list = date_string.split(\"-\")\n",
    "    opening_time = datetime.datetime.strptime(open_close_list[0], \"%H:%M\")\n",
    "    closing_time = datetime.datetime.strptime(open_close_list[1], \"%H:%M\")\n",
    "    current_time = datetime.datetime.strptime(time_now, \"%H:%M\")\n",
    "    if opening_time <= current_time <= closing_time:\n",
    "        return True\n",
    "    return False\n",
    "\n",
    "#function that you pass dataframe into to get dataframe with restaurants that are open now\n",
    "def open_restaurants(dataframe, time_now):\n",
    "    day_of_week = str(calendar.day_name[date.today().weekday()])\n",
    "    for index, row in dataframe.iterrows():\n",
    "        daily_hours = ast.literal_eval(dataframe[\"hours\"][index])\n",
    "        if daily_hours == {}:\n",
    "            dataframe = dataframe.drop(index)\n",
    "            continue\n",
    "        elif is_open(daily_hours[day_of_week], time_now) == False:\n",
    "            dataframe = dataframe.drop(index)\n",
    "    return dataframe"
   ]
  },
  {
   "cell_type": "code",
   "execution_count": 18,
   "metadata": {
    "collapsed": true,
    "scrolled": true
   },
   "outputs": [],
   "source": [
    "open_top_rests = open_restaurants(top_restaurants, \"16:00\")"
   ]
  },
  {
   "cell_type": "code",
   "execution_count": 19,
   "metadata": {},
   "outputs": [
    {
     "data": {
      "text/plain": [
       "\"{'Monday': '9:00-19:00', 'Tuesday': '9:00-19:00', 'Friday': '9:00-19:00', 'Wednesday': '9:00-19:00', 'Thursday': '9:00-19:00', 'Saturday': '9:00-19:00'}\""
      ]
     },
     "execution_count": 19,
     "metadata": {},
     "output_type": "execute_result"
    }
   ],
   "source": [
    "open_top_rests[\"hours\"][682]"
   ]
  },
  {
   "cell_type": "code",
   "execution_count": null,
   "metadata": {
    "collapsed": true
   },
   "outputs": [],
   "source": []
  }
 ],
 "metadata": {
  "kernelspec": {
   "display_name": "Python 3",
   "language": "python",
   "name": "python3"
  },
  "language_info": {
   "codemirror_mode": {
    "name": "ipython",
    "version": 3
   },
   "file_extension": ".py",
   "mimetype": "text/x-python",
   "name": "python",
   "nbconvert_exporter": "python",
   "pygments_lexer": "ipython3",
   "version": "3.6.1"
  }
 },
 "nbformat": 4,
 "nbformat_minor": 2
}
